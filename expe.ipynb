{
 "cells": [
  {
   "cell_type": "code",
   "execution_count": 1,
   "id": "d0e41fe9-4c17-445a-b988-bb356dbb5547",
   "metadata": {},
   "outputs": [],
   "source": [
    "from datasets import create_dataset, ClassifDataset\n",
    "import os\n",
    "import argparse\n",
    "from solver import Solver\n",
    "from torch.backends import cudnn\n"
   ]
  },
  {
   "cell_type": "code",
   "execution_count": 2,
   "id": "d452ec76",
   "metadata": {},
   "outputs": [],
   "source": [
    "data_dir = '/Volumes/hcp_many_pipelines_preprocess/normalized'\n",
    "create_dataset(data_dir, split=(800,100,100))"
   ]
  },
  {
   "cell_type": "code",
   "execution_count": 110,
   "id": "9498f8c7-4288-4f99-8ab7-7095efa18af0",
   "metadata": {},
   "outputs": [
    {
     "name": "stdout",
     "output_type": "stream",
     "text": [
      "Error while terminating subprocess (pid=50653): \n"
     ]
    }
   ],
   "source": [
    "%%bash\n",
    "python main.py --mode train --dataset dataset_rh --labels pipelines --image_size 56 \\\n",
    "               --c_dim 24 --batch_size 2 --data_dir data \\\n",
    "               --sample_dir samples --log_dir logs \\\n",
    "               --model_save_dir models --result_dir results"
   ]
  },
  {
   "cell_type": "code",
   "execution_count": null,
   "id": "2bf4a1a3",
   "metadata": {},
   "outputs": [],
   "source": []
  },
  {
   "cell_type": "code",
   "execution_count": null,
   "id": "d063a3a4",
   "metadata": {},
   "outputs": [],
   "source": []
  }
 ],
 "metadata": {
  "kernelspec": {
   "display_name": "Python 3 (ipykernel)",
   "language": "python",
   "name": "python3"
  },
  "language_info": {
   "codemirror_mode": {
    "name": "ipython",
    "version": 3
   },
   "file_extension": ".py",
   "mimetype": "text/x-python",
   "name": "python",
   "nbconvert_exporter": "python",
   "pygments_lexer": "ipython3",
   "version": "3.10.12"
  }
 },
 "nbformat": 4,
 "nbformat_minor": 5
}
